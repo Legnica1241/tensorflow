{
 "cells": [
  {
   "cell_type": "code",
   "execution_count": 1,
   "metadata": {},
   "outputs": [
    {
     "name": "stderr",
     "output_type": "stream",
     "text": [
      "Using TensorFlow backend.\n"
     ]
    }
   ],
   "source": [
    "from keras.layers import Input, Conv2D,Conv2DTranspose,Flatten,Dense,BatchNormalization,LeakyReLU,Dropout,Activation,Reshape\n",
    "from keras.models import Model\n",
    "from keras.optimizers import Adam\n",
    "from keras.datasets import mnist\n",
    "from keras.losses import mean_squared_error\n",
    "from keras import backend as K\n",
    "import numpy as np"
   ]
  },
  {
   "cell_type": "code",
   "execution_count": null,
   "metadata": {},
   "outputs": [],
   "source": []
  },
  {
   "cell_type": "code",
   "execution_count": 2,
   "metadata": {},
   "outputs": [],
   "source": [
    "class AutoEncoder():\n",
    "    def __init__(self , input_dims , encoder_conv_filters , encoder_kernel_size , encoder_strides ,\n",
    "                  decoder_convt_filters , decoder_convt_kernel_size , decoder_convt_strides ,\n",
    "                 latent_dims):\n",
    "        \n",
    "        self.input_dims                 =   input_dims\n",
    "        self.encoder_conv_filters       =   encoder_conv_filters\n",
    "        self.encoder_kernel_size        =   encoder_kernel_size\n",
    "        self.encoder_strides            =   encoder_strides\n",
    "        self.decoder_convt_filters      =   decoder_convt_filters\n",
    "        self.decoder_convt_kernel_size  =   decoder_convt_kernel_size\n",
    "        self.decoder_convt_strides      =   decoder_convt_strides\n",
    "        self.n_of_encoder_layers        =   len(encoder_conv_filters)\n",
    "        self.n_of_decoder_layers        =   len(decoder_convt_filters)\n",
    "        self.latent_dims                =   latent_dims\n",
    "\n",
    "        self._build()\n",
    "        \n",
    "    def load_mnist(self):\n",
    "        (x_train, y_train), (x_test, y_test) = mnist.load_data()\n",
    "\n",
    "        x_train = x_train.astype('float32') / 255.\n",
    "        x_train = x_train.reshape(x_train.shape + (1,))\n",
    "        x_test = x_test.astype('float32') / 255.\n",
    "        x_test = x_test.reshape(x_test.shape + (1,))\n",
    "\n",
    "        return (x_train, y_train), (x_test, y_test)\n",
    "    \n",
    "    \n",
    "    def _build(self):\n",
    "        \n",
    "    \n",
    "        encoder_input=Input(shape=self.input_dims,name='encoder_input')\n",
    "        \n",
    "        x=encoder_input\n",
    "        \n",
    "        for i in range(self.n_of_encoder_layers):\n",
    "            conv_en_layer=Conv2D(filters=self.encoder_conv_filters[i],\n",
    "                                 kernel_size=self.encoder_kernel_size[i],\n",
    "                                 strides=self.encoder_strides[i],\n",
    "                                padding='same',\n",
    "                                name='encoder_conv_'+str(i))\n",
    "            x=conv_en_layer(x)\n",
    "            x=LeakyReLU()(x)\n",
    "            \n",
    "            #shape_before_flatten=K.int_shape(x)\n",
    "            #shape_before_flatten=K.int_shape(x)[:]\n",
    "            #shape_before_flatten=K.int_shape(x)[1:0]\n",
    "            #x.Flatten(x)\n",
    "            \n",
    "            \n",
    "        shape_before_flatten=K.int_shape(x)[1:]\n",
    "        x=Flatten()(x)\n",
    "        encoder_output=Dense(units=self.latent_dims,name='encoder_output')(x)\n",
    "        #encoder_output=x\n",
    "        self.encoder=Model(encoder_input,encoder_output)\n",
    "\n",
    "\n",
    "\n",
    "\n",
    "\n",
    "        decoder_input=Input(shape=(self.latent_dims,),name='decoder_input')\n",
    "        \n",
    "        x=Dense(np.prod(shape_before_flatten))(decoder_input)\n",
    "        \n",
    "        x = Reshape(shape_before_flatten)(x)\n",
    "\n",
    "\n",
    "        for i in range(self.n_of_decoder_layers):\n",
    "            conv_trans=Conv2DTranspose(filters=self.decoder_convt_filters[i],\n",
    "                                      kernel_size=self.decoder_convt_kernel_size[i],\n",
    "                                      strides=self.decoder_convt_strides[i],\n",
    "                                      padding='same',\n",
    "                                      name='decoder_conv_t_'+str(i))\n",
    "            x=conv_trans(x)\n",
    "            if i < self.n_of_decoder_layers:\n",
    "                x=LeakyReLU()(x)\n",
    "            else:\n",
    "                x=Activation('sigmoid')(x)\n",
    "\n",
    "        decoder_output=x\n",
    "        self.decoder=Model(decoder_input,decoder_output)\n",
    "\n",
    "        model_input= encoder_input\n",
    "        model_output=self.decoder(encoder_output)\n",
    "        self.model=Model(model_input,model_output)\n",
    "        \n",
    "    def compile(self,learning_rate):\n",
    "        self.learning_rate=learning_rate\n",
    "        optimizer=Adam(lr=learning_rate)\n",
    "        self.model.compile(optimizer=optimizer, loss = mean_squared_error)\n",
    "        \n",
    "        \n",
    "    def train(self, x_train, batch_size, epochs):\n",
    "        self.model.fit(     \n",
    "            x_train\n",
    "            , x_train\n",
    "            , batch_size = batch_size\n",
    "            , shuffle = True\n",
    "            , epochs = epochs)"
   ]
  },
  {
   "cell_type": "code",
   "execution_count": null,
   "metadata": {},
   "outputs": [],
   "source": []
  },
  {
   "cell_type": "code",
   "execution_count": null,
   "metadata": {},
   "outputs": [],
   "source": [
    "#model_input= encoder_input\n",
    "#model_output=self.decoder(encoder_output)"
   ]
  },
  {
   "cell_type": "code",
   "execution_count": null,
   "metadata": {},
   "outputs": [],
   "source": [
    "#self.model=Model(model_input,model_output)"
   ]
  },
  {
   "cell_type": "code",
   "execution_count": null,
   "metadata": {},
   "outputs": [],
   "source": []
  },
  {
   "cell_type": "code",
   "execution_count": null,
   "metadata": {},
   "outputs": [],
   "source": []
  },
  {
   "cell_type": "code",
   "execution_count": null,
   "metadata": {},
   "outputs": [],
   "source": [
    "#x = np.array([1, 2, 3, 4])\n",
    "\n",
    "#np.prod(x)"
   ]
  },
  {
   "cell_type": "code",
   "execution_count": null,
   "metadata": {},
   "outputs": [],
   "source": []
  },
  {
   "cell_type": "code",
   "execution_count": null,
   "metadata": {},
   "outputs": [],
   "source": []
  },
  {
   "cell_type": "code",
   "execution_count": null,
   "metadata": {},
   "outputs": [],
   "source": []
  },
  {
   "cell_type": "code",
   "execution_count": null,
   "metadata": {},
   "outputs": [],
   "source": []
  },
  {
   "cell_type": "code",
   "execution_count": null,
   "metadata": {},
   "outputs": [],
   "source": []
  },
  {
   "cell_type": "code",
   "execution_count": null,
   "metadata": {},
   "outputs": [],
   "source": []
  },
  {
   "cell_type": "code",
   "execution_count": null,
   "metadata": {},
   "outputs": [],
   "source": []
  },
  {
   "cell_type": "code",
   "execution_count": null,
   "metadata": {},
   "outputs": [],
   "source": []
  },
  {
   "cell_type": "code",
   "execution_count": null,
   "metadata": {},
   "outputs": [],
   "source": []
  },
  {
   "cell_type": "code",
   "execution_count": null,
   "metadata": {},
   "outputs": [],
   "source": []
  },
  {
   "cell_type": "code",
   "execution_count": null,
   "metadata": {},
   "outputs": [],
   "source": []
  }
 ],
 "metadata": {
  "kernelspec": {
   "display_name": "ganskernel",
   "language": "python",
   "name": "ganskernel"
  },
  "language_info": {
   "codemirror_mode": {
    "name": "ipython",
    "version": 3
   },
   "file_extension": ".py",
   "mimetype": "text/x-python",
   "name": "python",
   "nbconvert_exporter": "python",
   "pygments_lexer": "ipython3",
   "version": "3.7.7"
  }
 },
 "nbformat": 4,
 "nbformat_minor": 4
}
