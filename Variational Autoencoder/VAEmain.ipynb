{
 "cells": [
  {
   "cell_type": "code",
   "execution_count": null,
   "metadata": {},
   "outputs": [],
   "source": [
    "# checking git...facing commit problem\n",
    "# commit 1 check"
   ]
  },
  {
   "cell_type": "code",
   "execution_count": 1,
   "metadata": {},
   "outputs": [
    {
     "name": "stderr",
     "output_type": "stream",
     "text": [
      "Using TensorFlow backend.\n"
     ]
    }
   ],
   "source": [
    "%load_ext importnb\n",
    "import varAE"
   ]
  },
  {
   "cell_type": "code",
   "execution_count": 2,
   "metadata": {},
   "outputs": [],
   "source": [
    "BATCH_SIZE = 32\n",
    "EPOCHS = 200"
   ]
  },
  {
   "cell_type": "code",
   "execution_count": 3,
   "metadata": {},
   "outputs": [],
   "source": [
    "VAE= varAE.VarAutoEnc( input_dims=(28,28,1),\n",
    "                     encoder_conv_filters=[32,64,64,64],\n",
    "                     encoder_kernel_size=[3,3,3,3],\n",
    "                      encoder_strides=[1,2,2,1],\n",
    "                      decoder_conv_t_filtres=[64,64,32,1],\n",
    "                      decoder_kernel_size=[3,3,3,3],\n",
    "                      decoder_striders=[1,2,2,1],\n",
    "                      latent_dims=2\n",
    "                     )"
   ]
  },
  {
   "cell_type": "code",
   "execution_count": 4,
   "metadata": {},
   "outputs": [],
   "source": [
    "(x_train, y_train), (x_test, y_test) = VAE.load_mnist()"
   ]
  },
  {
   "cell_type": "code",
   "execution_count": 5,
   "metadata": {},
   "outputs": [],
   "source": [
    "learning_rate=0.001\n",
    "R_loss_factor=1000\n",
    "VAE.compile(learning_rate,R_loss_factor)\n"
   ]
  },
  {
   "cell_type": "code",
   "execution_count": null,
   "metadata": {},
   "outputs": [
    {
     "name": "stdout",
     "output_type": "stream",
     "text": [
      "Epoch 1/200\n",
      "60000/60000 [==============================] - 45s 743us/step - loss: 59.3610 - vae_r_loss: 55.9617 - vae_kl_loss: 3.3993s -\n",
      "Epoch 2/200\n",
      "60000/60000 [==============================] - 43s 718us/step - loss: 55.5117 - vae_r_loss: 52.0490 - vae_kl_loss: 3.4627\n",
      "Epoch 3/200\n",
      "60000/60000 [==============================] - 48s 801us/step - loss: 54.7261 - vae_r_loss: 51.1903 - vae_kl_loss: 3.5357\n",
      "Epoch 4/200\n",
      "33952/60000 [===============>..............] - ETA: 22s - loss: 54.2686 - vae_r_loss: 50.6893 - vae_kl_loss: 3.5793"
     ]
    }
   ],
   "source": [
    "VAE.train(     \n",
    "    x_train\n",
    "    , batch_size = BATCH_SIZE\n",
    "    , epochs = EPOCHS)"
   ]
  },
  {
   "cell_type": "code",
   "execution_count": null,
   "metadata": {},
   "outputs": [],
   "source": [
    "VAE.encoder.summary"
   ]
  },
  {
   "cell_type": "code",
   "execution_count": null,
   "metadata": {},
   "outputs": [],
   "source": [
    "VAE.encoder.summary()"
   ]
  },
  {
   "cell_type": "code",
   "execution_count": null,
   "metadata": {},
   "outputs": [],
   "source": [
    "VAE.decoder.summary()"
   ]
  },
  {
   "cell_type": "code",
   "execution_count": null,
   "metadata": {},
   "outputs": [],
   "source": []
  }
 ],
 "metadata": {
  "kernelspec": {
   "display_name": "ganskernel",
   "language": "python",
   "name": "ganskernel"
  },
  "language_info": {
   "codemirror_mode": {
    "name": "ipython",
    "version": 3
   },
   "file_extension": ".py",
   "mimetype": "text/x-python",
   "name": "python",
   "nbconvert_exporter": "python",
   "pygments_lexer": "ipython3",
   "version": "3.7.7"
  }
 },
 "nbformat": 4,
 "nbformat_minor": 4
}
